{
  "nbformat": 4,
  "nbformat_minor": 0,
  "metadata": {
    "colab": {
      "name": "Projekt Sieci Neuronowe.ipynb",
      "provenance": [],
      "collapsed_sections": [],
      "authorship_tag": "ABX9TyPOGSxXwXgppH3/ZW47tKYR",
      "include_colab_link": true
    },
    "kernelspec": {
      "name": "python3",
      "display_name": "Python 3"
    },
    "language_info": {
      "name": "python"
    }
  },
  "cells": [
    {
      "cell_type": "markdown",
      "metadata": {
        "id": "view-in-github",
        "colab_type": "text"
      },
      "source": [
        "<a href=\"https://colab.research.google.com/github/MihauEM/Projekt-Sieci-Neuronowe/blob/main/Projekt_Sieci_Neuronowe.ipynb\" target=\"_parent\"><img src=\"https://colab.research.google.com/assets/colab-badge.svg\" alt=\"Open In Colab\"/></a>"
      ]
    },
    {
      "cell_type": "code",
      "execution_count": 2,
      "metadata": {
        "id": "svJXUmgAJk5j"
      },
      "outputs": [],
      "source": [
        "import keras\n",
        "from keras.datasets import mnist      \n",
        "from keras.models import Sequential   \n",
        "from keras.layers import Dense, Flatten, Conv2D, MaxPooling2D     \n",
        "from tensorflow.keras.utils import to_categorical"
      ]
    },
    {
      "cell_type": "code",
      "source": [
        "(x_train, y_train), (x_test, y_test) = mnist.load_data()"
      ],
      "metadata": {
        "colab": {
          "base_uri": "https://localhost:8080/"
        },
        "id": "Y3yYXncOJrHG",
        "outputId": "f664fd68-d43c-43c4-d8c4-723e88a1b16f"
      },
      "execution_count": 3,
      "outputs": [
        {
          "output_type": "stream",
          "name": "stdout",
          "text": [
            "Downloading data from https://storage.googleapis.com/tensorflow/tf-keras-datasets/mnist.npz\n",
            "11493376/11490434 [==============================] - 0s 0us/step\n",
            "11501568/11490434 [==============================] - 0s 0us/step\n"
          ]
        }
      ]
    },
    {
      "cell_type": "code",
      "source": [
        "print(x_train.shape)\n",
        "print(x_test.shape)\n",
        "print(y_train.shape)\n",
        "print(y_test.shape)\n",
        "\n",
        "print('Liczba danych treningowych:', x_train.shape[0])\n",
        "print('Liczba danych testowych:', x_test.shape[0])\n",
        "print('Rozmiar pojedynczego obrazka:', x_train[0].shape)"
      ],
      "metadata": {
        "colab": {
          "base_uri": "https://localhost:8080/"
        },
        "id": "MVkZeSSXJsh1",
        "outputId": "3f752dcc-ed32-40e4-f11d-8fe276a30521"
      },
      "execution_count": 4,
      "outputs": [
        {
          "output_type": "stream",
          "name": "stdout",
          "text": [
            "(60000, 28, 28)\n",
            "(10000, 28, 28)\n",
            "(60000,)\n",
            "(10000,)\n",
            "Liczba danych treningowych: 60000\n",
            "Liczba danych testowych: 10000\n",
            "Rozmiar pojedynczego obrazka: (28, 28)\n"
          ]
        }
      ]
    },
    {
      "cell_type": "code",
      "source": [
        "import matplotlib.pyplot as plt\n",
        "\n",
        "plt.imshow(x_train[10], cmap='Greys')\n",
        "plt.axis('off')"
      ],
      "metadata": {
        "colab": {
          "base_uri": "https://localhost:8080/",
          "height": 266
        },
        "id": "LLCPOOUaJt-f",
        "outputId": "627d3609-dd78-4eb1-e42b-88b1f7cd769e"
      },
      "execution_count": 5,
      "outputs": [
        {
          "output_type": "execute_result",
          "data": {
            "text/plain": [
              "(-0.5, 27.5, 27.5, -0.5)"
            ]
          },
          "metadata": {},
          "execution_count": 5
        },
        {
          "output_type": "display_data",
          "data": {
            "image/png": "[encoded data removed]",
            "text/plain": [
              "<Figure size 432x288 with 1 Axes>"
            ]
          },
          "metadata": {
            "needs_background": "light"
          }
        }
      ]
    },
    {
      "cell_type": "code",
      "source": [
        "print(keras.backend.image_data_format())\n",
        "\n",
        "img_rows, img_cols = 28, 28\n",
        "if keras.backend.image_data_format() == 'channel_first':\n",
        "  x_train = x_train.reshape(x_train.shape[0], 1, img_rows, img_cols)\n",
        "  x_test = x_test.reshape(x_test.shape[0],1, img_rows, img_cols)\n",
        "  input_shape = (1, img_rows, img_cols)\n",
        "else:\n",
        "  x_train = x_train.reshape(x_train.shape[0], img_rows, img_cols, 1)\n",
        "  x_test = x_test.reshape(x_test.shape[0], img_rows, img_cols, 1)\n",
        "  input_shape = (img_rows, img_cols, 1)\n",
        "\n",
        "print(input_shape)"
      ],
      "metadata": {
        "colab": {
          "base_uri": "https://localhost:8080/"
        },
        "id": "LrxmVPAjJvsp",
        "outputId": "b8593c3e-b810-40cf-a746-d03f4e672f3b"
      },
      "execution_count": 6,
      "outputs": [
        {
          "output_type": "stream",
          "name": "stdout",
          "text": [
            "channels_last\n",
            "(28, 28, 1)\n"
          ]
        }
      ]
    },
    {
      "cell_type": "code",
      "source": [
        "x_train = x_train.astype('float32')\n",
        "x_test = x_test.astype('float32')\n",
        "\n",
        "x_train /= 255.0\n",
        "x_test /= 255.0\n",
        "\n",
        "print(x_train.shape)\n",
        "print(x_test.shape)\n"
      ],
      "metadata": {
        "colab": {
          "base_uri": "https://localhost:8080/"
        },
        "id": "fPlFVScFJxfm",
        "outputId": "1dc344ca-8c3d-4294-e965-8fa98ab914d9"
      },
      "execution_count": 7,
      "outputs": [
        {
          "output_type": "stream",
          "name": "stdout",
          "text": [
            "(60000, 28, 28, 1)\n",
            "(10000, 28, 28, 1)\n"
          ]
        }
      ]
    },
    {
      "cell_type": "code",
      "source": [
        "print(y_train[1:20])"
      ],
      "metadata": {
        "colab": {
          "base_uri": "https://localhost:8080/"
        },
        "id": "Grs3BMZag_CC",
        "outputId": "0bdb3717-775e-4b81-ab4c-4311cc4f9c3d"
      },
      "execution_count": 8,
      "outputs": [
        {
          "output_type": "stream",
          "name": "stdout",
          "text": [
            "[0 4 1 9 2 1 3 1 4 3 5 3 6 1 7 2 8 6 9]\n"
          ]
        }
      ]
    },
    {
      "cell_type": "code",
      "source": [
        "y_train = to_categorical(y_train, num_classes=10)\n",
        "y_test = to_categorical(y_test, num_classes=10)\n",
        "\n",
        "print(y_train.shape)\n",
        "print(y_test.shape)"
      ],
      "metadata": {
        "colab": {
          "base_uri": "https://localhost:8080/"
        },
        "id": "cmiy_TKsJyH1",
        "outputId": "a451ea08-6b4d-41f6-a7fd-b89b5955c3d2"
      },
      "execution_count": 9,
      "outputs": [
        {
          "output_type": "stream",
          "name": "stdout",
          "text": [
            "(60000, 10)\n",
            "(10000, 10)\n"
          ]
        }
      ]
    },
    {
      "cell_type": "code",
      "source": [
        "y_train[0:10]"
      ],
      "metadata": {
        "colab": {
          "base_uri": "https://localhost:8080/"
        },
        "id": "jEIrzD1IJzrK",
        "outputId": "698e4c6c-a51e-4712-f025-29aee2683cf3"
      },
      "execution_count": 10,
      "outputs": [
        {
          "output_type": "execute_result",
          "data": {
            "text/plain": [
              "array([[0., 0., 0., 0., 0., 1., 0., 0., 0., 0.],\n",
              "       [1., 0., 0., 0., 0., 0., 0., 0., 0., 0.],\n",
              "       [0., 0., 0., 0., 1., 0., 0., 0., 0., 0.],\n",
              "       [0., 1., 0., 0., 0., 0., 0., 0., 0., 0.],\n",
              "       [0., 0., 0., 0., 0., 0., 0., 0., 0., 1.],\n",
              "       [0., 0., 1., 0., 0., 0., 0., 0., 0., 0.],\n",
              "       [0., 1., 0., 0., 0., 0., 0., 0., 0., 0.],\n",
              "       [0., 0., 0., 1., 0., 0., 0., 0., 0., 0.],\n",
              "       [0., 1., 0., 0., 0., 0., 0., 0., 0., 0.],\n",
              "       [0., 0., 0., 0., 1., 0., 0., 0., 0., 0.]], dtype=float32)"
            ]
          },
          "metadata": {},
          "execution_count": 10
        }
      ]
    },
    {
      "cell_type": "code",
      "source": [
        "model = Sequential() \n",
        "model.add(Conv2D(filters=32, kernel_size=(3,3), activation='relu', input_shape=(28, 28, 1)))   #pierwsza warstwa konwolucji musi miec rozmiar\n",
        "model.add(Conv2D(filters=64,kernel_size=(3,3), activation='relu'))     \n",
        "model.add(MaxPooling2D(pool_size=(2,2)))         \n",
        "model.add(Flatten())\n",
        "model.add(Dense(units=128, activation='relu'))    #wartstwa ukryta gęsta - trzeba podać liczbę neuronów warstwy\n",
        "model.add(Dense(units=10, activation='softmax'))  #warstwa wyjściowa, ma 10 neuronów bo 10 klas. softmax bo chcemy dostać prawdopodobieństwa\n",
        "\n"
      ],
      "metadata": {
        "id": "7Lt0jETnJ3Bt"
      },
      "execution_count": 11,
      "outputs": []
    },
    {
      "cell_type": "code",
      "source": [
        "model.summary()"
      ],
      "metadata": {
        "colab": {
          "base_uri": "https://localhost:8080/"
        },
        "id": "q51OdCypJ4ZX",
        "outputId": "c4479b3d-86f7-41bb-c65e-76c553c0e539"
      },
      "execution_count": 12,
      "outputs": [
        {
          "output_type": "stream",
          "name": "stdout",
          "text": [
            "Model: \"sequential\"\n",
            "_________________________________________________________________\n",
            " Layer (type)                Output Shape              Param #   \n",
            "=================================================================\n",
            " conv2d (Conv2D)             (None, 26, 26, 32)        320       \n",
            "                                                                 \n",
            " conv2d_1 (Conv2D)           (None, 24, 24, 64)        18496     \n",
            "                                                                 \n",
            " max_pooling2d (MaxPooling2D  (None, 12, 12, 64)       0         \n",
            " )                                                               \n",
            "                                                                 \n",
            " flatten (Flatten)           (None, 9216)              0         \n",
            "                                                                 \n",
            " dense (Dense)               (None, 128)               1179776   \n",
            "                                                                 \n",
            " dense_1 (Dense)             (None, 10)                1290      \n",
            "                                                                 \n",
            "=================================================================\n",
            "Total params: 1,199,882\n",
            "Trainable params: 1,199,882\n",
            "Non-trainable params: 0\n",
            "_________________________________________________________________\n"
          ]
        }
      ]
    },
    {
      "cell_type": "code",
      "source": [
        "model.compile(optimizer='adadelta',           #kompilacja modelu, wykorzystanie optymalizatora adadelta\n",
        "              loss='categorical_crossentropy',  #funkcja celu\n",
        "              metrics=['accuracy'])             #metryka dokładności"
      ],
      "metadata": {
        "id": "PRXYXi6hJ6Ln"
      },
      "execution_count": 13,
      "outputs": []
    },
    {
      "cell_type": "code",
      "source": [
        "print(y_train.shape)\n",
        "print(y_test.shape)"
      ],
      "metadata": {
        "colab": {
          "base_uri": "https://localhost:8080/"
        },
        "id": "uYi9UALmKTLQ",
        "outputId": "e67d9a23-537e-4229-82e8-e8eb8e1591a9"
      },
      "execution_count": 14,
      "outputs": [
        {
          "output_type": "stream",
          "name": "stdout",
          "text": [
            "(60000, 10)\n",
            "(10000, 10)\n"
          ]
        }
      ]
    },
    {
      "cell_type": "code",
      "source": [
        "history = model.fit(x_train, y_train, batch_size = 32, epochs=10, validation_data=(x_test, y_test))\n",
        "#batch size - rozmiar danych w jednej iteracji - liczba po której wagi zostaną zaktualizowane\n"
      ],
      "metadata": {
        "colab": {
          "base_uri": "https://localhost:8080/"
        },
        "id": "Bv_BuRq8J700",
        "outputId": "bf28ac28-f84f-4041-c430-9982ac8dbbe1"
      },
      "execution_count": 16,
      "outputs": [
        {
          "output_type": "stream",
          "name": "stdout",
          "text": [
            "Epoch 1/10\n",
            "1875/1875 [==============================] - 115s 61ms/step - loss: 2.1379 - accuracy: 0.4712 - val_loss: 1.9177 - val_accuracy: 0.7251\n",
            "Epoch 2/10\n",
            "1875/1875 [==============================] - 115s 61ms/step - loss: 1.5533 - accuracy: 0.7457 - val_loss: 1.1333 - val_accuracy: 0.7950\n",
            "Epoch 3/10\n",
            "1875/1875 [==============================] - 118s 63ms/step - loss: 0.8854 - accuracy: 0.8096 - val_loss: 0.6705 - val_accuracy: 0.8472\n",
            "Epoch 4/10\n",
            "1875/1875 [==============================] - 115s 61ms/step - loss: 0.6000 - accuracy: 0.8482 - val_loss: 0.5087 - val_accuracy: 0.8697\n",
            "Epoch 5/10\n",
            "1875/1875 [==============================] - 115s 61ms/step - loss: 0.4881 - accuracy: 0.8686 - val_loss: 0.4369 - val_accuracy: 0.8835\n",
            "Epoch 6/10\n",
            "1875/1875 [==============================] - 114s 61ms/step - loss: 0.4313 - accuracy: 0.8803 - val_loss: 0.3950 - val_accuracy: 0.8921\n",
            "Epoch 7/10\n",
            "1875/1875 [==============================] - 114s 61ms/step - loss: 0.3966 - accuracy: 0.8880 - val_loss: 0.3689 - val_accuracy: 0.8979\n",
            "Epoch 8/10\n",
            "1875/1875 [==============================] - 114s 61ms/step - loss: 0.3730 - accuracy: 0.8936 - val_loss: 0.3502 - val_accuracy: 0.9040\n",
            "Epoch 9/10\n",
            "1875/1875 [==============================] - 114s 61ms/step - loss: 0.3554 - accuracy: 0.8984 - val_loss: 0.3344 - val_accuracy: 0.9070\n",
            "Epoch 10/10\n",
            "1875/1875 [==============================] - 114s 61ms/step - loss: 0.3418 - accuracy: 0.9017 - val_loss: 0.3232 - val_accuracy: 0.9093\n"
          ]
        }
      ]
    },
    {
      "cell_type": "code",
      "source": [
        "history.history"
      ],
      "metadata": {
        "colab": {
          "base_uri": "https://localhost:8080/"
        },
        "id": "jQY-ZAMtJ97l",
        "outputId": "3e95745d-6db3-4208-e536-92e346c499da"
      },
      "execution_count": 18,
      "outputs": [
        {
          "output_type": "execute_result",
          "data": {
            "text/plain": [
              "{'accuracy': [0.4711500108242035,\n",
              "  0.7456833124160767,\n",
              "  0.8096333146095276,\n",
              "  0.8482000231742859,\n",
              "  0.8685500025749207,\n",
              "  0.8803499937057495,\n",
              "  0.8879666924476624,\n",
              "  0.8936333060264587,\n",
              "  0.8984166383743286,\n",
              "  0.9016500115394592],\n",
              " 'loss': [2.1379339694976807,\n",
              "  1.5532865524291992,\n",
              "  0.8853768706321716,\n",
              "  0.5999568104743958,\n",
              "  0.4880874752998352,\n",
              "  0.43126165866851807,\n",
              "  0.39662793278694153,\n",
              "  0.37295761704444885,\n",
              "  0.35543742775917053,\n",
              "  0.3417539596557617],\n",
              " 'val_accuracy': [0.7250999808311462,\n",
              "  0.7950000166893005,\n",
              "  0.8471999764442444,\n",
              "  0.869700014591217,\n",
              "  0.8834999799728394,\n",
              "  0.8920999765396118,\n",
              "  0.8978999853134155,\n",
              "  0.9039999842643738,\n",
              "  0.9070000052452087,\n",
              "  0.9093000292778015],\n",
              " 'val_loss': [1.9176511764526367,\n",
              "  1.133347749710083,\n",
              "  0.6705285906791687,\n",
              "  0.5086503028869629,\n",
              "  0.4368917942047119,\n",
              "  0.39501893520355225,\n",
              "  0.3688797056674957,\n",
              "  0.35023510456085205,\n",
              "  0.3344409167766571,\n",
              "  0.32318177819252014]}"
            ]
          },
          "metadata": {},
          "execution_count": 18
        }
      ]
    },
    {
      "cell_type": "code",
      "source": [
        "def make_accuracy_plot(history):\n",
        "  \n",
        "    acc, val_acc = history.history['accuracy'], history.history['val_accuracy']\n",
        "    epochs = range(1, len(acc) + 1)\n",
        "\n",
        "    plt.figure(figsize=(10, 8))\n",
        "    plt.plot(epochs, acc, label='Dokładność trenowania', marker='o')\n",
        "    plt.plot(epochs, val_acc, label='Dokładność walidacji', marker='o')\n",
        "    plt.legend()\n",
        "    plt.title('Dokładność trenowania i walidacji')\n",
        "    plt.xlabel('Epoki')\n",
        "    plt.ylabel('Dokładność')\n",
        "    plt.show()\n",
        "\n",
        "def make_loss_plot(history):\n",
        "  \n",
        "    loss, val_loss = history.history['loss'], history.history['val_loss']\n",
        "    epochs = range(1, len(loss) + 1)\n",
        "    \n",
        "    plt.figure(figsize=(10, 8))\n",
        "    plt.plot(epochs, loss, label='Strata trenowania', marker='o')\n",
        "    plt.plot(epochs, val_loss, label='Strata walidacji', marker='o')\n",
        "    plt.legend()\n",
        "    plt.title('Strata trenowania i walidacji')\n",
        "    plt.xlabel('Epoki')\n",
        "    plt.ylabel('Strata')\n",
        "    plt.show()\n",
        "    "
      ],
      "metadata": {
        "id": "fgYrCZChJ_zw"
      },
      "execution_count": 19,
      "outputs": []
    },
    {
      "cell_type": "code",
      "source": [
        "make_loss_plot(history)"
      ],
      "metadata": {
        "colab": {
          "base_uri": "https://localhost:8080/",
          "height": 513
        },
        "id": "apiQQpzDKBiM",
        "outputId": "c3ae3822-3dc7-4601-c162-6985a764c586"
      },
      "execution_count": 20,
      "outputs": [
        {
          "output_type": "display_data",
          "data": {
            "image/png": "[encoded data removed]",
            "text/plain": [
              "<Figure size 720x576 with 1 Axes>"
            ]
          },
          "metadata": {
            "needs_background": "light"
          }
        }
      ]
    },
    {
      "cell_type": "code",
      "source": [
        "make_accuracy_plot(history)"
      ],
      "metadata": {
        "colab": {
          "base_uri": "https://localhost:8080/",
          "height": 513
        },
        "id": "GEXDez-zKCl0",
        "outputId": "d3e61d87-6c8f-4171-f9db-1a4269e300cf"
      },
      "execution_count": 21,
      "outputs": [
        {
          "output_type": "display_data",
          "data": {
            "image/png": "[encoded data removed]",
            "text/plain": [
              "<Figure size 720x576 with 1 Axes>"
            ]
          },
          "metadata": {
            "needs_background": "light"
          }
        }
      ]
    }
  ]
}